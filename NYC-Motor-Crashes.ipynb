{
 "cells": [
  {
   "cell_type": "code",
   "execution_count": 1,
   "metadata": {},
   "outputs": [],
   "source": [
    "# Importing libraries\n",
    "import numpy as np\n",
    "import pandas as pd"
   ]
  },
  {
   "cell_type": "code",
   "execution_count": 2,
   "metadata": {},
   "outputs": [],
   "source": [
    "# Reading our csv files\n",
    "df = pd.read_csv('NYCM_100000.csv')"
   ]
  },
  {
   "cell_type": "code",
   "execution_count": 3,
   "metadata": {},
   "outputs": [
    {
     "data": {
      "text/html": [
       "<div>\n",
       "<style scoped>\n",
       "    .dataframe tbody tr th:only-of-type {\n",
       "        vertical-align: middle;\n",
       "    }\n",
       "\n",
       "    .dataframe tbody tr th {\n",
       "        vertical-align: top;\n",
       "    }\n",
       "\n",
       "    .dataframe thead th {\n",
       "        text-align: right;\n",
       "    }\n",
       "</style>\n",
       "<table border=\"1\" class=\"dataframe\">\n",
       "  <thead>\n",
       "    <tr style=\"text-align: right;\">\n",
       "      <th></th>\n",
       "      <th>crash_date</th>\n",
       "      <th>crash_time</th>\n",
       "      <th>borough</th>\n",
       "      <th>zip_code</th>\n",
       "      <th>latitude</th>\n",
       "      <th>longitude</th>\n",
       "      <th>location</th>\n",
       "      <th>on_street_name</th>\n",
       "      <th>off_street_name</th>\n",
       "      <th>cross_street_name</th>\n",
       "      <th>...</th>\n",
       "      <th>contributing_factor_vehicle_2</th>\n",
       "      <th>contributing_factor_vehicle_3</th>\n",
       "      <th>contributing_factor_vehicle_4</th>\n",
       "      <th>contributing_factor_vehicle_5</th>\n",
       "      <th>collision_id</th>\n",
       "      <th>vehicle_type_code1</th>\n",
       "      <th>vehicle_type_code2</th>\n",
       "      <th>vehicle_type_code_3</th>\n",
       "      <th>vehicle_type_code_4</th>\n",
       "      <th>vehicle_type_code_5</th>\n",
       "    </tr>\n",
       "  </thead>\n",
       "  <tbody>\n",
       "    <tr>\n",
       "      <th>81994</th>\n",
       "      <td>2020-04-11T00:00:00.000</td>\n",
       "      <td>14:44</td>\n",
       "      <td>NaN</td>\n",
       "      <td>NaN</td>\n",
       "      <td>40.666588</td>\n",
       "      <td>-73.80809</td>\n",
       "      <td>(40.666588, -73.80809)</td>\n",
       "      <td>BELT PARKWAY</td>\n",
       "      <td>NaN</td>\n",
       "      <td>NaN</td>\n",
       "      <td>...</td>\n",
       "      <td>Following Too Closely</td>\n",
       "      <td>NaN</td>\n",
       "      <td>NaN</td>\n",
       "      <td>NaN</td>\n",
       "      <td>4308414</td>\n",
       "      <td>Sedan</td>\n",
       "      <td>Sedan</td>\n",
       "      <td>NaN</td>\n",
       "      <td>NaN</td>\n",
       "      <td>NaN</td>\n",
       "    </tr>\n",
       "  </tbody>\n",
       "</table>\n",
       "<p>1 rows × 29 columns</p>\n",
       "</div>"
      ],
      "text/plain": [
       "                    crash_date crash_time borough  zip_code   latitude  \\\n",
       "81994  2020-04-11T00:00:00.000      14:44     NaN       NaN  40.666588   \n",
       "\n",
       "       longitude                location                    on_street_name  \\\n",
       "81994  -73.80809  (40.666588, -73.80809)  BELT PARKWAY                       \n",
       "\n",
       "      off_street_name cross_street_name  ...  contributing_factor_vehicle_2  \\\n",
       "81994             NaN               NaN  ...          Following Too Closely   \n",
       "\n",
       "       contributing_factor_vehicle_3  contributing_factor_vehicle_4  \\\n",
       "81994                            NaN                            NaN   \n",
       "\n",
       "       contributing_factor_vehicle_5  collision_id  vehicle_type_code1  \\\n",
       "81994                            NaN       4308414               Sedan   \n",
       "\n",
       "       vehicle_type_code2  vehicle_type_code_3 vehicle_type_code_4  \\\n",
       "81994               Sedan                  NaN                 NaN   \n",
       "\n",
       "      vehicle_type_code_5  \n",
       "81994                 NaN  \n",
       "\n",
       "[1 rows x 29 columns]"
      ]
     },
     "execution_count": 3,
     "metadata": {},
     "output_type": "execute_result"
    }
   ],
   "source": [
    "# Getting a random sample of the data\n",
    "df.sample()"
   ]
  },
  {
   "cell_type": "code",
   "execution_count": 4,
   "metadata": {},
   "outputs": [
    {
     "data": {
      "text/plain": [
       "crash_date                        object\n",
       "crash_time                        object\n",
       "borough                           object\n",
       "zip_code                         float64\n",
       "latitude                         float64\n",
       "longitude                        float64\n",
       "location                          object\n",
       "on_street_name                    object\n",
       "off_street_name                   object\n",
       "cross_street_name                 object\n",
       "number_of_persons_injured          int64\n",
       "number_of_persons_killed           int64\n",
       "number_of_pedestrians_injured      int64\n",
       "number_of_pedestrians_killed       int64\n",
       "number_of_cyclist_injured          int64\n",
       "number_of_cyclist_killed           int64\n",
       "number_of_motorist_injured         int64\n",
       "number_of_motorist_killed          int64\n",
       "contributing_factor_vehicle_1     object\n",
       "contributing_factor_vehicle_2     object\n",
       "contributing_factor_vehicle_3     object\n",
       "contributing_factor_vehicle_4     object\n",
       "contributing_factor_vehicle_5     object\n",
       "collision_id                       int64\n",
       "vehicle_type_code1                object\n",
       "vehicle_type_code2                object\n",
       "vehicle_type_code_3               object\n",
       "vehicle_type_code_4               object\n",
       "vehicle_type_code_5               object\n",
       "dtype: object"
      ]
     },
     "execution_count": 4,
     "metadata": {},
     "output_type": "execute_result"
    }
   ],
   "source": [
    "# Getting an idea of what datetypes exist in the dataframe\n",
    "# Taking notes of possible flaw in the datatype of some columns\n",
    "df.dtypes"
   ]
  },
  {
   "cell_type": "code",
   "execution_count": 5,
   "metadata": {},
   "outputs": [],
   "source": [
    "# Changing 'crash_date' datatype formate to the actual panda's datetime format \n",
    "df['crash_date'] = pd.to_datetime(df['crash_date'])"
   ]
  },
  {
   "cell_type": "code",
   "execution_count": 6,
   "metadata": {},
   "outputs": [],
   "source": [
    "# Importing datetime libraries to make use of some of it's power\n",
    "import datetime"
   ]
  },
  {
   "cell_type": "code",
   "execution_count": 7,
   "metadata": {},
   "outputs": [],
   "source": [
    "# Converting 'crash_time' string format to its %H:%M real datetime format\n",
    "df['crash_time'] = df['crash_time'].apply(lambda x:datetime.datetime.strptime(x,'%H:%M'))"
   ]
  },
  {
   "cell_type": "code",
   "execution_count": 8,
   "metadata": {},
   "outputs": [
    {
     "data": {
      "text/plain": [
       "crash_date                       datetime64[ns]\n",
       "crash_time                       datetime64[ns]\n",
       "borough                                  object\n",
       "zip_code                                float64\n",
       "latitude                                float64\n",
       "longitude                               float64\n",
       "location                                 object\n",
       "on_street_name                           object\n",
       "off_street_name                          object\n",
       "cross_street_name                        object\n",
       "number_of_persons_injured                 int64\n",
       "number_of_persons_killed                  int64\n",
       "number_of_pedestrians_injured             int64\n",
       "number_of_pedestrians_killed              int64\n",
       "number_of_cyclist_injured                 int64\n",
       "number_of_cyclist_killed                  int64\n",
       "number_of_motorist_injured                int64\n",
       "number_of_motorist_killed                 int64\n",
       "contributing_factor_vehicle_1            object\n",
       "contributing_factor_vehicle_2            object\n",
       "contributing_factor_vehicle_3            object\n",
       "contributing_factor_vehicle_4            object\n",
       "contributing_factor_vehicle_5            object\n",
       "collision_id                              int64\n",
       "vehicle_type_code1                       object\n",
       "vehicle_type_code2                       object\n",
       "vehicle_type_code_3                      object\n",
       "vehicle_type_code_4                      object\n",
       "vehicle_type_code_5                      object\n",
       "dtype: object"
      ]
     },
     "execution_count": 8,
     "metadata": {},
     "output_type": "execute_result"
    }
   ],
   "source": [
    "# Making sure that the changes has taken its place in the dataframe \n",
    "df.dtypes"
   ]
  },
  {
   "cell_type": "code",
   "execution_count": 9,
   "metadata": {},
   "outputs": [
    {
     "data": {
      "text/plain": [
       "crash_date                           0\n",
       "crash_time                           0\n",
       "borough                          35026\n",
       "zip_code                         35034\n",
       "latitude                          8035\n",
       "longitude                         8035\n",
       "location                          8035\n",
       "on_street_name                   26009\n",
       "off_street_name                  52875\n",
       "cross_street_name                74033\n",
       "number_of_persons_injured            0\n",
       "number_of_persons_killed             0\n",
       "number_of_pedestrians_injured        0\n",
       "number_of_pedestrians_killed         0\n",
       "number_of_cyclist_injured            0\n",
       "number_of_cyclist_killed             0\n",
       "number_of_motorist_injured           0\n",
       "number_of_motorist_killed            0\n",
       "contributing_factor_vehicle_1      371\n",
       "contributing_factor_vehicle_2    19243\n",
       "contributing_factor_vehicle_3    91239\n",
       "contributing_factor_vehicle_4    97760\n",
       "contributing_factor_vehicle_5    99333\n",
       "collision_id                         0\n",
       "vehicle_type_code1                 740\n",
       "vehicle_type_code2               26589\n",
       "vehicle_type_code_3              91671\n",
       "vehicle_type_code_4              97853\n",
       "vehicle_type_code_5              99354\n",
       "dtype: int64"
      ]
     },
     "execution_count": 9,
     "metadata": {},
     "output_type": "execute_result"
    }
   ],
   "source": [
    "# Now taking care of missing values\n",
    "# Taking a glance of \"How many missing value\" are we talking about\n",
    "df.isnull().sum()"
   ]
  },
  {
   "cell_type": "code",
   "execution_count": 20,
   "metadata": {},
   "outputs": [],
   "source": [
    "# Trying to make a list of all possible columns containing missing values\n",
    "null_list=[i for i in df.columns if df[i].isnull().sum() > 1]"
   ]
  },
  {
   "cell_type": "code",
   "execution_count": 21,
   "metadata": {},
   "outputs": [],
   "source": [
    "# This list contains a 3 int64 datatype that we need to clean first\n",
    "# so we can apply string modules on the rest (object data types)\n",
    "b=['zip_code','latitude','longitude']\n",
    "object_null_list= [i for i in null_list if i not in b]"
   ]
  },
  {
   "cell_type": "code",
   "execution_count": 22,
   "metadata": {},
   "outputs": [
    {
     "data": {
      "text/plain": [
       "['borough',\n",
       " 'location',\n",
       " 'on_street_name',\n",
       " 'off_street_name',\n",
       " 'cross_street_name',\n",
       " 'contributing_factor_vehicle_1',\n",
       " 'contributing_factor_vehicle_2',\n",
       " 'contributing_factor_vehicle_3',\n",
       " 'contributing_factor_vehicle_4',\n",
       " 'contributing_factor_vehicle_5',\n",
       " 'vehicle_type_code1',\n",
       " 'vehicle_type_code2',\n",
       " 'vehicle_type_code_3',\n",
       " 'vehicle_type_code_4',\n",
       " 'vehicle_type_code_5']"
      ]
     },
     "execution_count": 22,
     "metadata": {},
     "output_type": "execute_result"
    }
   ],
   "source": [
    "# Created a list of all columns with \"Object\" Datatype\n",
    "object_null_list"
   ]
  },
  {
   "cell_type": "code",
   "execution_count": 25,
   "metadata": {},
   "outputs": [],
   "source": [
    "# Making sure where the object is np.NAN, we replace is with the string 'Unspecified'\n",
    "df[object_null_list]=df[object_null_list].apply(lambda x: x.fillna('Unspecified'))"
   ]
  },
  {
   "cell_type": "code",
   "execution_count": 26,
   "metadata": {},
   "outputs": [
    {
     "data": {
      "text/plain": [
       "crash_date                           0\n",
       "crash_time                           0\n",
       "borough                              0\n",
       "zip_code                         35034\n",
       "latitude                          8035\n",
       "longitude                         8035\n",
       "location                             0\n",
       "on_street_name                       0\n",
       "off_street_name                      0\n",
       "cross_street_name                    0\n",
       "number_of_persons_injured            0\n",
       "number_of_persons_killed             0\n",
       "number_of_pedestrians_injured        0\n",
       "number_of_pedestrians_killed         0\n",
       "number_of_cyclist_injured            0\n",
       "number_of_cyclist_killed             0\n",
       "number_of_motorist_injured           0\n",
       "number_of_motorist_killed            0\n",
       "contributing_factor_vehicle_1        0\n",
       "contributing_factor_vehicle_2        0\n",
       "contributing_factor_vehicle_3        0\n",
       "contributing_factor_vehicle_4        0\n",
       "contributing_factor_vehicle_5        0\n",
       "collision_id                         0\n",
       "vehicle_type_code1                   0\n",
       "vehicle_type_code2                   0\n",
       "vehicle_type_code_3                  0\n",
       "vehicle_type_code_4                  0\n",
       "vehicle_type_code_5                  0\n",
       "dtype: int64"
      ]
     },
     "execution_count": 26,
     "metadata": {},
     "output_type": "execute_result"
    }
   ],
   "source": [
    "# Proof of that our trick worked, Now let's take care of the columns\n",
    "# With the int64 datatype\n",
    "df.isnull().sum()"
   ]
  },
  {
   "cell_type": "code",
   "execution_count": 28,
   "metadata": {},
   "outputs": [],
   "source": [
    "# Here we are making sure to replace np.NAN columns values with a proper 0, (float) formate\n",
    "df[b]=df[b].apply(lambda x:x.fillna(0,))"
   ]
  },
  {
   "cell_type": "code",
   "execution_count": 29,
   "metadata": {},
   "outputs": [
    {
     "data": {
      "text/plain": [
       "crash_date                       0\n",
       "crash_time                       0\n",
       "borough                          0\n",
       "zip_code                         0\n",
       "latitude                         0\n",
       "longitude                        0\n",
       "location                         0\n",
       "on_street_name                   0\n",
       "off_street_name                  0\n",
       "cross_street_name                0\n",
       "number_of_persons_injured        0\n",
       "number_of_persons_killed         0\n",
       "number_of_pedestrians_injured    0\n",
       "number_of_pedestrians_killed     0\n",
       "number_of_cyclist_injured        0\n",
       "number_of_cyclist_killed         0\n",
       "number_of_motorist_injured       0\n",
       "number_of_motorist_killed        0\n",
       "contributing_factor_vehicle_1    0\n",
       "contributing_factor_vehicle_2    0\n",
       "contributing_factor_vehicle_3    0\n",
       "contributing_factor_vehicle_4    0\n",
       "contributing_factor_vehicle_5    0\n",
       "collision_id                     0\n",
       "vehicle_type_code1               0\n",
       "vehicle_type_code2               0\n",
       "vehicle_type_code_3              0\n",
       "vehicle_type_code_4              0\n",
       "vehicle_type_code_5              0\n",
       "dtype: int64"
      ]
     },
     "execution_count": 29,
     "metadata": {},
     "output_type": "execute_result"
    }
   ],
   "source": [
    "# Proof of working flow\n",
    "df.isnull().sum()"
   ]
  },
  {
   "cell_type": "code",
   "execution_count": 30,
   "metadata": {},
   "outputs": [
    {
     "data": {
      "text/html": [
       "<div>\n",
       "<style scoped>\n",
       "    .dataframe tbody tr th:only-of-type {\n",
       "        vertical-align: middle;\n",
       "    }\n",
       "\n",
       "    .dataframe tbody tr th {\n",
       "        vertical-align: top;\n",
       "    }\n",
       "\n",
       "    .dataframe thead th {\n",
       "        text-align: right;\n",
       "    }\n",
       "</style>\n",
       "<table border=\"1\" class=\"dataframe\">\n",
       "  <thead>\n",
       "    <tr style=\"text-align: right;\">\n",
       "      <th></th>\n",
       "      <th>crash_date</th>\n",
       "      <th>crash_time</th>\n",
       "      <th>borough</th>\n",
       "      <th>zip_code</th>\n",
       "      <th>latitude</th>\n",
       "      <th>longitude</th>\n",
       "      <th>location</th>\n",
       "      <th>on_street_name</th>\n",
       "      <th>off_street_name</th>\n",
       "      <th>cross_street_name</th>\n",
       "      <th>...</th>\n",
       "      <th>contributing_factor_vehicle_2</th>\n",
       "      <th>contributing_factor_vehicle_3</th>\n",
       "      <th>contributing_factor_vehicle_4</th>\n",
       "      <th>contributing_factor_vehicle_5</th>\n",
       "      <th>collision_id</th>\n",
       "      <th>vehicle_type_code1</th>\n",
       "      <th>vehicle_type_code2</th>\n",
       "      <th>vehicle_type_code_3</th>\n",
       "      <th>vehicle_type_code_4</th>\n",
       "      <th>vehicle_type_code_5</th>\n",
       "    </tr>\n",
       "  </thead>\n",
       "  <tbody>\n",
       "    <tr>\n",
       "      <th>57282</th>\n",
       "      <td>2020-08-15</td>\n",
       "      <td>1900-01-01 02:39:00</td>\n",
       "      <td>Unspecified</td>\n",
       "      <td>0.0</td>\n",
       "      <td>40.60715</td>\n",
       "      <td>-73.89837</td>\n",
       "      <td>(40.60715, -73.89837)</td>\n",
       "      <td>BELT PARKWAY</td>\n",
       "      <td>Unspecified</td>\n",
       "      <td>Unspecified</td>\n",
       "      <td>...</td>\n",
       "      <td>Unspecified</td>\n",
       "      <td>Unspecified</td>\n",
       "      <td>Unspecified</td>\n",
       "      <td>Unspecified</td>\n",
       "      <td>4338950</td>\n",
       "      <td>Sedan</td>\n",
       "      <td>Sedan</td>\n",
       "      <td>Unspecified</td>\n",
       "      <td>Unspecified</td>\n",
       "      <td>Unspecified</td>\n",
       "    </tr>\n",
       "  </tbody>\n",
       "</table>\n",
       "<p>1 rows × 29 columns</p>\n",
       "</div>"
      ],
      "text/plain": [
       "      crash_date          crash_time      borough  zip_code  latitude  \\\n",
       "57282 2020-08-15 1900-01-01 02:39:00  Unspecified       0.0  40.60715   \n",
       "\n",
       "       longitude               location                    on_street_name  \\\n",
       "57282  -73.89837  (40.60715, -73.89837)  BELT PARKWAY                       \n",
       "\n",
       "      off_street_name cross_street_name  ...  contributing_factor_vehicle_2  \\\n",
       "57282     Unspecified       Unspecified  ...                    Unspecified   \n",
       "\n",
       "       contributing_factor_vehicle_3  contributing_factor_vehicle_4  \\\n",
       "57282                    Unspecified                    Unspecified   \n",
       "\n",
       "       contributing_factor_vehicle_5  collision_id  vehicle_type_code1  \\\n",
       "57282                    Unspecified       4338950               Sedan   \n",
       "\n",
       "       vehicle_type_code2  vehicle_type_code_3 vehicle_type_code_4  \\\n",
       "57282               Sedan          Unspecified         Unspecified   \n",
       "\n",
       "      vehicle_type_code_5  \n",
       "57282         Unspecified  \n",
       "\n",
       "[1 rows x 29 columns]"
      ]
     },
     "execution_count": 30,
     "metadata": {},
     "output_type": "execute_result"
    }
   ],
   "source": [
    "# Getting a back another glance to see how the change are looking\n",
    "df.sample()"
   ]
  },
  {
   "cell_type": "code",
   "execution_count": 31,
   "metadata": {},
   "outputs": [],
   "source": [
    "# Let's take care of the begining and trailing blank space in our columns values\n",
    "object_types=[i for i in df.columns if df.dtypes[i]== np.object]"
   ]
  },
  {
   "cell_type": "code",
   "execution_count": 32,
   "metadata": {},
   "outputs": [],
   "source": [
    "# Making sure that the strip does its job, and it does\n",
    "for i in object_types:\n",
    "    df[i].map(lambda x: x.strip())"
   ]
  },
  {
   "cell_type": "code",
   "execution_count": 33,
   "metadata": {},
   "outputs": [],
   "source": [
    "# Since this table has got a beautifull \"Collision_id\" we can use it\n",
    "# to take out any duplicate data if exists\n",
    "dup = df[df.duplicated(['collision_id'])]"
   ]
  },
  {
   "cell_type": "code",
   "execution_count": 34,
   "metadata": {},
   "outputs": [
    {
     "data": {
      "text/html": [
       "<div>\n",
       "<style scoped>\n",
       "    .dataframe tbody tr th:only-of-type {\n",
       "        vertical-align: middle;\n",
       "    }\n",
       "\n",
       "    .dataframe tbody tr th {\n",
       "        vertical-align: top;\n",
       "    }\n",
       "\n",
       "    .dataframe thead th {\n",
       "        text-align: right;\n",
       "    }\n",
       "</style>\n",
       "<table border=\"1\" class=\"dataframe\">\n",
       "  <thead>\n",
       "    <tr style=\"text-align: right;\">\n",
       "      <th></th>\n",
       "      <th>crash_date</th>\n",
       "      <th>crash_time</th>\n",
       "      <th>borough</th>\n",
       "      <th>zip_code</th>\n",
       "      <th>latitude</th>\n",
       "      <th>longitude</th>\n",
       "      <th>location</th>\n",
       "      <th>on_street_name</th>\n",
       "      <th>off_street_name</th>\n",
       "      <th>cross_street_name</th>\n",
       "      <th>...</th>\n",
       "      <th>contributing_factor_vehicle_2</th>\n",
       "      <th>contributing_factor_vehicle_3</th>\n",
       "      <th>contributing_factor_vehicle_4</th>\n",
       "      <th>contributing_factor_vehicle_5</th>\n",
       "      <th>collision_id</th>\n",
       "      <th>vehicle_type_code1</th>\n",
       "      <th>vehicle_type_code2</th>\n",
       "      <th>vehicle_type_code_3</th>\n",
       "      <th>vehicle_type_code_4</th>\n",
       "      <th>vehicle_type_code_5</th>\n",
       "    </tr>\n",
       "  </thead>\n",
       "  <tbody>\n",
       "  </tbody>\n",
       "</table>\n",
       "<p>0 rows × 29 columns</p>\n",
       "</div>"
      ],
      "text/plain": [
       "Empty DataFrame\n",
       "Columns: [crash_date, crash_time, borough, zip_code, latitude, longitude, location, on_street_name, off_street_name, cross_street_name, number_of_persons_injured, number_of_persons_killed, number_of_pedestrians_injured, number_of_pedestrians_killed, number_of_cyclist_injured, number_of_cyclist_killed, number_of_motorist_injured, number_of_motorist_killed, contributing_factor_vehicle_1, contributing_factor_vehicle_2, contributing_factor_vehicle_3, contributing_factor_vehicle_4, contributing_factor_vehicle_5, collision_id, vehicle_type_code1, vehicle_type_code2, vehicle_type_code_3, vehicle_type_code_4, vehicle_type_code_5]\n",
       "Index: []\n",
       "\n",
       "[0 rows x 29 columns]"
      ]
     },
     "execution_count": 34,
     "metadata": {},
     "output_type": "execute_result"
    }
   ],
   "source": [
    "# Luckily our dataframe has got no duplicate data enteries\n",
    "dup"
   ]
  },
  {
   "cell_type": "code",
   "execution_count": null,
   "metadata": {},
   "outputs": [],
   "source": [
    "# Finally we can gladly save our cleaned version of the dataframe in our \n",
    "# Newly created custom csv file\n",
    "df.to_csv('Cleaned.csv', index=False)"
   ]
  }
 ],
 "metadata": {
  "kernelspec": {
   "display_name": "Python 3",
   "language": "python",
   "name": "python3"
  },
  "language_info": {
   "codemirror_mode": {
    "name": "ipython",
    "version": 3
   },
   "file_extension": ".py",
   "mimetype": "text/x-python",
   "name": "python",
   "nbconvert_exporter": "python",
   "pygments_lexer": "ipython3",
   "version": "3.8.6"
  }
 },
 "nbformat": 4,
 "nbformat_minor": 4
}
